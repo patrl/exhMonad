{
 "cells": [
  {
   "cell_type": "markdown",
   "metadata": {},
   "source": [
    "# Propositional logic with exhaustification (ExhPL)"
   ]
  },
  {
   "cell_type": "code",
   "execution_count": 24,
   "metadata": {},
   "outputs": [],
   "source": [
    "import Prelude hiding (lookup)"
   ]
  },
  {
   "cell_type": "markdown",
   "metadata": {},
   "source": [
    "## Syntax\n",
    "\n",
    "We start by extending the datatype for expressions of Propositional Logic from the `hatt` library.\n",
    "\n",
    "### Variables\n",
    "\n",
    "Variables are simply characters. Variables with the same name will always be assigned the same truth-value by a given assignment."
   ]
  },
  {
   "cell_type": "code",
   "execution_count": 18,
   "metadata": {},
   "outputs": [],
   "source": [
    "newtype Var = Var Char\n",
    "    deriving (Eq, Ord)\n",
    "\n",
    "instance Show Var where\n",
    "    show (Var v) = [v]"
   ]
  },
  {
   "cell_type": "markdown",
   "metadata": {},
   "source": [
    "### Wffs\n",
    "\n",
    "Following the `hatt` library, we define a recursive datatype for wffs of exhaustified propositional logic. The only addition here is the `Exh` data constructor."
   ]
  },
  {
   "cell_type": "code",
   "execution_count": 18,
   "metadata": {},
   "outputs": [],
   "source": [
    "data Expr = Variable Var\n",
    "          | Negation Expr\n",
    "          | Exh Expr\n",
    "          | Conjunction Expr Expr\n",
    "          | Disjunction Expr Expr\n",
    "          deriving Eq"
   ]
  },
  {
   "cell_type": "markdown",
   "metadata": {},
   "source": [
    "Here, we define some functions to display wffs of ExhPL in a more readable fashion."
   ]
  },
  {
   "cell_type": "code",
   "execution_count": 18,
   "metadata": {},
   "outputs": [],
   "source": [
    "    \n",
    "showBinaryConnective :: (Expr -> String) -> String -> Expr -> Expr -> String\n",
    "showBinaryConnective show_ symbol exp1 exp2 =\n",
    "  '(' : show_ exp1 ++ \" \" ++ symbol ++ \" \" ++ show_ exp2 ++ \")\"\n",
    "\n",
    "showBC :: String -> Expr -> Expr -> String\n",
    "showBC = showBinaryConnective show\n",
    "          \n",
    "instance Show Expr where\n",
    "  show (Variable      name)      = show name\n",
    "  show (Negation      expr)      = '¬' : show expr\n",
    "  show (Exh expr) = 'O' : show expr\n",
    "  show (Conjunction   exp1 exp2) = showBC \"∧\" exp1 exp2\n",
    "  show (Disjunction   exp1 exp2) = showBC \"∨\" exp1 exp2"
   ]
  },
  {
   "cell_type": "markdown",
   "metadata": {},
   "source": [
    "## TODO Parsing expressions with `parsec`"
   ]
  },
  {
   "cell_type": "markdown",
   "metadata": {},
   "source": [
    "### Computing Alternatives"
   ]
  },
  {
   "cell_type": "code",
   "execution_count": 56,
   "metadata": {},
   "outputs": [],
   "source": [
    "binaryConnectives :: [(Expr -> Expr -> Expr)]\n",
    "binaryConnectives = [Conjunction,Disjunction]\n",
    "\n",
    "class Alt a where\n",
    "    alt :: a -> [a]\n",
    "\n",
    "instance Alt Expr where\n",
    "    alt (Negation exp) = (alt exp) ++ map Negation (alt exp)\n",
    "    alt (Conjunction exp1 exp2) = [f' exp1' exp2' | f' <- binaryConnectives, exp1' <- (alt exp1), exp2' <- (alt exp2)] ++ (alt exp1) ++ (alt exp2)\n",
    "    alt (Disjunction exp1 exp2) = [f' exp1' exp2' | f' <- binaryConnectives, exp1' <- (alt exp1), exp2' <- (alt exp2)] ++ (alt exp1) ++ (alt exp2)\n",
    "    alt exp = [exp]"
   ]
  },
  {
   "cell_type": "code",
   "execution_count": 57,
   "metadata": {},
   "outputs": [
    {
     "data": {
      "text/plain": [
       "[((a ∧ b) ∧ c),((a ∨ b) ∧ c),(a ∧ c),(b ∧ c),((a ∧ b) ∨ c),((a ∨ b) ∨ c),(a ∨ c),(b ∨ c),(a ∧ b),(a ∨ b),a,b,c]"
      ]
     },
     "metadata": {},
     "output_type": "display_data"
    }
   ],
   "source": [
    "alt $ Variable (Var 'a') `Disjunction` Variable (Var 'b') `Disjunction` Variable (Var 'c')"
   ]
  },
  {
   "cell_type": "markdown",
   "metadata": {},
   "source": [
    "## Semantics"
   ]
  },
  {
   "cell_type": "code",
   "execution_count": 83,
   "metadata": {},
   "outputs": [],
   "source": [
    "import Data.Map (Map, fromList, lookup)\n",
    "import Control.Monad (liftM, liftM2, replicateM)\n",
    "import Data.Maybe (fromMaybe)\n",
    "import Data.List (group, sort)"
   ]
  },
  {
   "cell_type": "markdown",
   "metadata": {},
   "source": [
    "Formulae are interpreted relative to assignments of variables to truth-values."
   ]
  },
  {
   "cell_type": "code",
   "execution_count": 61,
   "metadata": {},
   "outputs": [],
   "source": [
    "type Mapping = Map Var Bool\n",
    "\n",
    "interpret :: Expr -> Mapping -> Bool\n",
    "interpret (Variable      v)         vs = fromMaybe False (lookup v vs)\n",
    "interpret (Negation      expr)      vs = not $ interpret expr vs\n",
    "interpret (Exh expr) vs = interpret (exh expr) vs\n",
    "interpret (Conjunction   exp1 exp2) vs = interpret exp1 vs && interpret exp2 vs\n",
    "interpret (Disjunction   exp1 exp2) vs = interpret exp1 vs || interpret exp2 vs\n",
    "\n",
    "assignments :: Expr -> [Mapping]\n",
    "assignments expr = let vs = variables expr\n",
    "                       ps = replicateM (length vs) [True, False]\n",
    "                   in  map (fromList . zip vs) ps\n",
    "                   \n",
    "variables :: Expr -> [Var]\n",
    "variables expr = let vars_ (Variable      v)     vs = v : vs\n",
    "                     vars_ (Negation      e)     vs = vars_ e vs\n",
    "                     vars_ (Exh e) vs = vars_ e vs\n",
    "                     vars_ (Conjunction   e1 e2) vs = vars_ e1 vs ++ vars_ e2 vs\n",
    "                     vars_ (Disjunction   e1 e2) vs = vars_ e1 vs ++ vars_ e2 vs\n",
    "                 in  map head . group . sort $ vars_ expr []\n",
    "                 \n",
    "values :: Expr -> [Bool]\n",
    "values expr = map (interpret expr) (assignments expr)\n",
    "\n",
    "-- | Determines whether an expression is contradictory.\n",
    "isContradiction :: Expr -> Bool\n",
    "isContradiction = not . or . values"
   ]
  },
  {
   "cell_type": "markdown",
   "metadata": {},
   "source": [
    "Given a prejacent `prej`, and an alternative `alt`, `excl` determines whether or not `alt` is *excludable* relative to `prej`. Here, we assume that an alternative is excludable if it is non-truth-conditionally weaker."
   ]
  },
  {
   "cell_type": "code",
   "execution_count": 62,
   "metadata": {},
   "outputs": [],
   "source": [
    "-- | Determines whether or not an alternative is excludable\n",
    "excl :: Expr -> Expr -> Bool\n",
    "excl prej alt = (not . isContradiction) (Conjunction prej (Negation alt))"
   ]
  },
  {
   "cell_type": "markdown",
   "metadata": {},
   "source": [
    "Now, we define a function `exclAlts`, which for a given expression `expr`, computes the set of excludable alternatives to `expr`."
   ]
  },
  {
   "cell_type": "code",
   "execution_count": 63,
   "metadata": {},
   "outputs": [],
   "source": [
    "-- | Returns the list of excludable alternatives\n",
    "exclAlts :: Expr -> [Expr]\n",
    "exclAlts expr = filter (excl expr) (alt expr)"
   ]
  },
  {
   "cell_type": "markdown",
   "metadata": {},
   "source": [
    "Finally, we define a function `exh` that takes an expression, and returns the (syntactic) conjunction of the expression with the negation of each of its excludable alternatives. We could do this directly in the semantics, but it will be useful to see the result of applying `Exh`."
   ]
  },
  {
   "cell_type": "code",
   "execution_count": 64,
   "metadata": {},
   "outputs": [],
   "source": [
    "exh :: Expr -> Expr\n",
    "exh exp = foldr Conjunction exp (map Negation $ exclAlts exp)"
   ]
  },
  {
   "cell_type": "code",
   "execution_count": 68,
   "metadata": {},
   "outputs": [
    {
     "data": {
      "text/html": [
       "<style>/* Styles used for the Hoogle display in the pager */\n",
       ".hoogle-doc {\n",
       "display: block;\n",
       "padding-bottom: 1.3em;\n",
       "padding-left: 0.4em;\n",
       "}\n",
       ".hoogle-code {\n",
       "display: block;\n",
       "font-family: monospace;\n",
       "white-space: pre;\n",
       "}\n",
       ".hoogle-text {\n",
       "display: block;\n",
       "}\n",
       ".hoogle-name {\n",
       "color: green;\n",
       "font-weight: bold;\n",
       "}\n",
       ".hoogle-head {\n",
       "font-weight: bold;\n",
       "}\n",
       ".hoogle-sub {\n",
       "display: block;\n",
       "margin-left: 0.4em;\n",
       "}\n",
       ".hoogle-package {\n",
       "font-weight: bold;\n",
       "font-style: italic;\n",
       "}\n",
       ".hoogle-module {\n",
       "font-weight: bold;\n",
       "}\n",
       ".hoogle-class {\n",
       "font-weight: bold;\n",
       "}\n",
       ".get-type {\n",
       "color: green;\n",
       "font-weight: bold;\n",
       "font-family: monospace;\n",
       "display: block;\n",
       "white-space: pre-wrap;\n",
       "}\n",
       ".show-type {\n",
       "color: green;\n",
       "font-weight: bold;\n",
       "font-family: monospace;\n",
       "margin-left: 1em;\n",
       "}\n",
       ".mono {\n",
       "font-family: monospace;\n",
       "display: block;\n",
       "}\n",
       ".err-msg {\n",
       "color: red;\n",
       "font-style: italic;\n",
       "font-family: monospace;\n",
       "white-space: pre;\n",
       "display: block;\n",
       "}\n",
       "#unshowable {\n",
       "color: red;\n",
       "font-weight: bold;\n",
       "}\n",
       ".err-msg.in.collapse {\n",
       "padding-top: 0.7em;\n",
       "}\n",
       ".highlight-code {\n",
       "white-space: pre;\n",
       "font-family: monospace;\n",
       "}\n",
       ".suggestion-warning { \n",
       "font-weight: bold;\n",
       "color: rgb(200, 130, 0);\n",
       "}\n",
       ".suggestion-error { \n",
       "font-weight: bold;\n",
       "color: red;\n",
       "}\n",
       ".suggestion-name {\n",
       "font-weight: bold;\n",
       "}\n",
       "</style><div class=\"suggestion-name\" style=\"clear:both;\">Redundant bracket</div><div class=\"suggestion-row\" style=\"float: left;\"><div class=\"suggestion-warning\">Found:</div><div class=\"highlight-code\" id=\"haskell\">Variable (Var 'a') `Disjunction` (Variable (Var 'b'))</div></div><div class=\"suggestion-row\" style=\"float: left;\"><div class=\"suggestion-warning\">Why Not:</div><div class=\"highlight-code\" id=\"haskell\">Variable (Var 'a') `Disjunction` Variable (Var 'b')</div></div>"
      ],
      "text/plain": [
       "Line 1: Redundant bracket\n",
       "Found:\n",
       "Variable (Var 'a') `Disjunction` (Variable (Var 'b'))\n",
       "Why not:\n",
       "Variable (Var 'a') `Disjunction` Variable (Var 'b')"
      ]
     },
     "metadata": {},
     "output_type": "display_data"
    },
    {
     "data": {
      "text/plain": [
       "[False,False,False,False]"
      ]
     },
     "metadata": {},
     "output_type": "display_data"
    }
   ],
   "source": [
    "values $ exh (Variable (Var 'a') `Disjunction` (Variable (Var 'b')))"
   ]
  },
  {
   "cell_type": "markdown",
   "metadata": {},
   "source": [
    "## Innocent Exclusion"
   ]
  },
  {
   "cell_type": "markdown",
   "metadata": {},
   "source": [
    "First, we need a function for computing the subsets."
   ]
  },
  {
   "cell_type": "code",
   "execution_count": 69,
   "metadata": {},
   "outputs": [],
   "source": [
    "subsets :: [a] -> [[a]]\n",
    "subsets []  = [[]]\n",
    "subsets (x:xs) = subsets xs ++ map (x:) (subsets xs)"
   ]
  },
  {
   "cell_type": "code",
   "execution_count": 94,
   "metadata": {},
   "outputs": [
    {
     "data": {
      "text/plain": [
       "[[],[b],[a],[a,b],[(a ∧ b)],[(a ∧ b),b],[(a ∧ b),a],[(a ∧ b),a,b]]"
      ]
     },
     "metadata": {},
     "output_type": "display_data"
    }
   ],
   "source": [
    "subsets $ exclAlts $ Variable (Var 'a') `Disjunction` Variable (Var 'b')"
   ]
  },
  {
   "cell_type": "code",
   "execution_count": 72,
   "metadata": {},
   "outputs": [],
   "source": [
    "isConsistent :: Expr -> [Expr] -> Bool\n",
    "isConsistent expr alts = (not . isContradiction) $ foldr Conjunction expr (map Negation alts)"
   ]
  },
  {
   "cell_type": "code",
   "execution_count": 90,
   "metadata": {},
   "outputs": [
    {
     "data": {
      "text/html": [
       "<style>/* Styles used for the Hoogle display in the pager */\n",
       ".hoogle-doc {\n",
       "display: block;\n",
       "padding-bottom: 1.3em;\n",
       "padding-left: 0.4em;\n",
       "}\n",
       ".hoogle-code {\n",
       "display: block;\n",
       "font-family: monospace;\n",
       "white-space: pre;\n",
       "}\n",
       ".hoogle-text {\n",
       "display: block;\n",
       "}\n",
       ".hoogle-name {\n",
       "color: green;\n",
       "font-weight: bold;\n",
       "}\n",
       ".hoogle-head {\n",
       "font-weight: bold;\n",
       "}\n",
       ".hoogle-sub {\n",
       "display: block;\n",
       "margin-left: 0.4em;\n",
       "}\n",
       ".hoogle-package {\n",
       "font-weight: bold;\n",
       "font-style: italic;\n",
       "}\n",
       ".hoogle-module {\n",
       "font-weight: bold;\n",
       "}\n",
       ".hoogle-class {\n",
       "font-weight: bold;\n",
       "}\n",
       ".get-type {\n",
       "color: green;\n",
       "font-weight: bold;\n",
       "font-family: monospace;\n",
       "display: block;\n",
       "white-space: pre-wrap;\n",
       "}\n",
       ".show-type {\n",
       "color: green;\n",
       "font-weight: bold;\n",
       "font-family: monospace;\n",
       "margin-left: 1em;\n",
       "}\n",
       ".mono {\n",
       "font-family: monospace;\n",
       "display: block;\n",
       "}\n",
       ".err-msg {\n",
       "color: red;\n",
       "font-style: italic;\n",
       "font-family: monospace;\n",
       "white-space: pre;\n",
       "display: block;\n",
       "}\n",
       "#unshowable {\n",
       "color: red;\n",
       "font-weight: bold;\n",
       "}\n",
       ".err-msg.in.collapse {\n",
       "padding-top: 0.7em;\n",
       "}\n",
       ".highlight-code {\n",
       "white-space: pre;\n",
       "font-family: monospace;\n",
       "}\n",
       ".suggestion-warning { \n",
       "font-weight: bold;\n",
       "color: rgb(200, 130, 0);\n",
       "}\n",
       ".suggestion-error { \n",
       "font-weight: bold;\n",
       "color: red;\n",
       "}\n",
       ".suggestion-name {\n",
       "font-weight: bold;\n",
       "}\n",
       "</style><span class='get-type'>on :: forall b c a. (b -> b -> c) -> (a -> b) -> a -> a -> c</span>"
      ],
      "text/plain": [
       "on :: forall b c a. (b -> b -> c) -> (a -> b) -> a -> a -> c"
      ]
     },
     "metadata": {},
     "output_type": "display_data"
    }
   ],
   "source": [
    "import Data.Function (on)\n",
    "import Data.List (maximumBy)"
   ]
  },
  {
   "cell_type": "code",
   "execution_count": 91,
   "metadata": {},
   "outputs": [],
   "source": [
    "longest = maximumBy (compare `on` length)"
   ]
  },
  {
   "cell_type": "code",
   "execution_count": 92,
   "metadata": {},
   "outputs": [
    {
     "data": {
      "text/plain": [
       "[1,2,3]"
      ]
     },
     "metadata": {},
     "output_type": "display_data"
    }
   ],
   "source": [
    "longest $ subsets [1,2,3]"
   ]
  },
  {
   "cell_type": "code",
   "execution_count": null,
   "metadata": {},
   "outputs": [],
   "source": []
  }
 ],
 "metadata": {
  "kernelspec": {
   "display_name": "Haskell - haskell",
   "language": "haskell",
   "name": "ihaskell_haskell"
  },
  "language_info": {
   "codemirror_mode": "ihaskell",
   "file_extension": ".hs",
   "name": "haskell",
   "pygments_lexer": "Haskell",
   "version": "8.4.4"
  }
 },
 "nbformat": 4,
 "nbformat_minor": 2
}
