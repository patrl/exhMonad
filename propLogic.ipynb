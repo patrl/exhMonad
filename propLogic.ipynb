{
 "cells": [
  {
   "cell_type": "markdown",
   "metadata": {},
   "source": [
    "Let's try implementing a simple datatype for wffs of propositional logic. We'll represent propositional variables as characters."
   ]
  },
  {
   "cell_type": "code",
   "execution_count": 160,
   "metadata": {},
   "outputs": [],
   "source": [
    "newtype Var = Var Char\n",
    "\n",
    "instance Show Var where\n",
    "    show (Var c) = [c]"
   ]
  },
  {
   "cell_type": "markdown",
   "metadata": {},
   "source": [
    "Here is a recursive datatype for wffs of propositional logic. Essentially, anything of type `Expr` is a wff of propositional logic."
   ]
  },
  {
   "cell_type": "code",
   "execution_count": 161,
   "metadata": {},
   "outputs": [],
   "source": [
    "data Expr = Variable Var\n",
    "    | Negation Expr\n",
    "    | Conjunction Expr Expr\n",
    "    | Disjunction Expr Expr\n",
    "    | Conditional Expr Expr"
   ]
  },
  {
   "cell_type": "markdown",
   "metadata": {},
   "source": [
    "We write a `Show` instance for our `Expr` datatype, to ensure that wffs are printed in a way that's readable."
   ]
  },
  {
   "cell_type": "code",
   "execution_count": 185,
   "metadata": {},
   "outputs": [],
   "source": [
    "parenthesise :: String -> String\n",
    "parenthesise cs = \"(\" ++ cs ++ \")\"\n",
    "\n",
    "instance Show Expr where\n",
    "    show (Variable v) = show v\n",
    "    show (Negation f) = parenthesise $ \"¬\" ++ \" \" ++ show f\n",
    "    show (Conjunction v v') = parenthesise $ show v ++ \" ∧ \" ++ show v'\n",
    "    show (Disjunction v v') = parenthesise $ show v ++ \" ∨ \" ++ show v'\n",
    "    show (Conditional v v') = parenthesise $ show v ++ \" → \" ++ show v'"
   ]
  },
  {
   "cell_type": "markdown",
   "metadata": {},
   "source": [
    "TODO: typeset wffs using `LaTeX`"
   ]
  }
 ],
 "metadata": {
  "kernelspec": {
   "display_name": "Haskell - haskell",
   "language": "haskell",
   "name": "ihaskell_haskell"
  },
  "language_info": {
   "codemirror_mode": "ihaskell",
   "file_extension": ".hs",
   "name": "haskell",
   "pygments_lexer": "Haskell",
   "version": "8.4.4"
  }
 },
 "nbformat": 4,
 "nbformat_minor": 2
}
