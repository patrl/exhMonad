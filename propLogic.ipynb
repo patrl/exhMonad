{
 "cells": [
  {
   "cell_type": "markdown",
   "metadata": {},
   "source": [
    "# Propositional logic with exhaustification\n",
    "\n",
    "## Syntax\n",
    "\n",
    "Note that the following datatype is based on the `hatt` library."
   ]
  },
  {
   "cell_type": "code",
   "execution_count": 1,
   "metadata": {},
   "outputs": [],
   "source": [
    "import Prelude hiding (lookup)"
   ]
  },
  {
   "cell_type": "code",
   "execution_count": 2,
   "metadata": {},
   "outputs": [],
   "source": [
    "newtype Var = Var Char\n",
    "    deriving (Eq, Ord)\n",
    "\n",
    "instance Show Var where\n",
    "    show (Var v) = [v]\n",
    "\n",
    "data Expr = Variable Var\n",
    "          | Negation Expr\n",
    "          | Exh Expr\n",
    "          | Conjunction Expr Expr\n",
    "          | Disjunction Expr Expr\n",
    "          | Conditional Expr Expr\n",
    "          | Biconditional Expr Expr\n",
    "          deriving Eq\n",
    "          \n",
    "showBinaryConnective :: (Expr -> String) -> String -> Expr -> Expr -> String\n",
    "showBinaryConnective show_ symbol exp1 exp2 =\n",
    "  '(' : show_ exp1 ++ \" \" ++ symbol ++ \" \" ++ show_ exp2 ++ \")\"\n",
    "\n",
    "showBC :: String -> Expr -> Expr -> String\n",
    "showBC = showBinaryConnective show\n",
    "          \n",
    "instance Show Expr where\n",
    "  show (Variable      name)      = show name\n",
    "  show (Negation      expr)      = '¬' : show expr\n",
    "  show (Exh expr) = 'O' : show expr\n",
    "  show (Conjunction   exp1 exp2) = showBC \"∧\" exp1 exp2\n",
    "  show (Disjunction   exp1 exp2) = showBC \"∨\" exp1 exp2\n",
    "  show (Conditional   exp1 exp2) = showBC \"→\" exp1 exp2\n",
    "  show (Biconditional exp1 exp2) = showBC \"↔\" exp1 exp2"
   ]
  },
  {
   "cell_type": "markdown",
   "metadata": {},
   "source": [
    "### Incorporating alternatives"
   ]
  },
  {
   "cell_type": "code",
   "execution_count": 3,
   "metadata": {},
   "outputs": [],
   "source": [
    "binaryConnectives :: [(Expr -> Expr -> Expr)]\n",
    "binaryConnectives = [Conjunction,Disjunction,Conditional,Biconditional]\n",
    "\n",
    "class Alt a where\n",
    "    alt :: a -> [a]\n",
    "\n",
    "instance Alt Expr where\n",
    "    alt (Variable v) = [(Variable v)]\n",
    "    alt (Negation exp) = (alt exp) ++ map Negation (alt exp)\n",
    "    alt (Conjunction exp1 exp2) = [f' exp1' exp2' | f' <- binaryConnectives, exp1' <- (alt exp1), exp2' <- (alt exp2)] ++ (alt exp1) ++ (alt exp2)\n",
    "    alt (Disjunction exp1 exp2) = [f' exp1' exp2' | f' <- binaryConnectives, exp1' <- (alt exp1), exp2' <- (alt exp2)] ++ (alt exp1) ++ (alt exp2)\n",
    "    alt (Conditional exp1 exp2) = [f' exp1' exp2' | f' <- binaryConnectives, exp1' <- (alt exp1), exp2' <- (alt exp2)] ++ (alt exp1) ++ (alt exp2)\n",
    "    alt (Biconditional exp1 exp2) = [f' exp1' exp2' | f' <- binaryConnectives, exp1' <- (alt exp1), exp2' <- (alt exp2)] ++ (alt exp1) ++ (alt exp2)\n"
   ]
  },
  {
   "cell_type": "code",
   "execution_count": 4,
   "metadata": {},
   "outputs": [
    {
     "data": {
      "text/plain": [
       "[(a ∧ b),(¬a ∧ b),(a ∨ b),(¬a ∨ b),(a → b),(¬a → b),(a ↔ b),(¬a ↔ b),a,¬a,b]"
      ]
     },
     "metadata": {},
     "output_type": "display_data"
    }
   ],
   "source": [
    "alt $ Negation (Variable (Var 'a')) `Disjunction` Variable (Var 'b')"
   ]
  },
  {
   "cell_type": "markdown",
   "metadata": {},
   "source": [
    "## Semantics"
   ]
  },
  {
   "cell_type": "code",
   "execution_count": 49,
   "metadata": {},
   "outputs": [],
   "source": [
    "import Data.Map (Map, fromList, lookup)\n",
    "import Control.Monad (liftM, liftM2, replicateM)\n",
    "import Data.Maybe (fromMaybe)\n",
    "import Data.List (group, sort)\n",
    "\n",
    "type Mapping = Map Var Bool\n",
    "\n",
    "interpret :: Expr -> Mapping -> Bool\n",
    "interpret (Variable      v)         vs = fromMaybe False (lookup v vs)\n",
    "interpret (Negation      expr)      vs = not $ interpret expr vs\n",
    "interpret (Conjunction   exp1 exp2) vs = interpret exp1 vs && interpret exp2 vs\n",
    "interpret (Disjunction   exp1 exp2) vs = interpret exp1 vs || interpret exp2 vs\n",
    "interpret (Conditional   exp1 exp2) vs = not (interpret exp1 vs) || interpret exp2 vs\n",
    "interpret (Biconditional exp1 exp2) vs = interpret exp1 vs == interpret exp2 vs\n",
    "\n",
    "assignments :: Expr -> [Mapping]\n",
    "assignments expr = let vs = variables expr\n",
    "                       ps = replicateM (length vs) [True, False]\n",
    "                   in  map (fromList . zip vs) ps\n",
    "                   \n",
    "variables :: Expr -> [Var]\n",
    "variables expr = let vars_ (Variable      v)     vs = v : vs\n",
    "                     vars_ (Negation      e)     vs = vars_ e vs\n",
    "                     vars_ (Conjunction   e1 e2) vs = vars_ e1 vs ++ vars_ e2 vs\n",
    "                     vars_ (Disjunction   e1 e2) vs = vars_ e1 vs ++ vars_ e2 vs\n",
    "                     vars_ (Conditional   e1 e2) vs = vars_ e1 vs ++ vars_ e2 vs\n",
    "                     vars_ (Biconditional e1 e2) vs = vars_ e1 vs ++ vars_ e2 vs\n",
    "                 in  map head . group . sort $ vars_ expr []\n",
    "                 \n",
    "values :: Expr -> [Bool]\n",
    "values expr = map (interpret expr) (assignments expr)\n",
    "\n",
    "-- | Determines whether an expression is contradictory.\n",
    "isContradiction :: Expr -> Bool\n",
    "isContradiction = not . or . values\n",
    "\n",
    "-- | Determines whether or not an alternative is excludable\n",
    "excl :: Expr -> Expr -> Bool\n",
    "excl exp1 exp2 = (not . isContradiction) (Conjunction exp1 (Negation exp2))\n",
    "\n",
    "-- | Returns the list of excludable alternatives\n",
    "exclAlts :: Expr -> [Expr]\n",
    "exclAlts expr = filter (excl expr) (alt expr)"
   ]
  },
  {
   "cell_type": "code",
   "execution_count": null,
   "metadata": {},
   "outputs": [],
   "source": []
  }
 ],
 "metadata": {
  "kernelspec": {
   "display_name": "Haskell - haskell",
   "language": "haskell",
   "name": "ihaskell_haskell"
  },
  "language_info": {
   "codemirror_mode": "ihaskell",
   "file_extension": ".hs",
   "name": "haskell",
   "pygments_lexer": "Haskell",
   "version": "8.4.4"
  }
 },
 "nbformat": 4,
 "nbformat_minor": 2
}
