{
 "cells": [
  {
   "cell_type": "markdown",
   "metadata": {},
   "source": [
    "# Propositional logic with exhaustification (ExhPL)"
   ]
  },
  {
   "cell_type": "code",
   "execution_count": 1,
   "metadata": {},
   "outputs": [
    {
     "data": {
      "text/html": [
       "<style>/* Styles used for the Hoogle display in the pager */\n",
       ".hoogle-doc {\n",
       "display: block;\n",
       "padding-bottom: 1.3em;\n",
       "padding-left: 0.4em;\n",
       "}\n",
       ".hoogle-code {\n",
       "display: block;\n",
       "font-family: monospace;\n",
       "white-space: pre;\n",
       "}\n",
       ".hoogle-text {\n",
       "display: block;\n",
       "}\n",
       ".hoogle-name {\n",
       "color: green;\n",
       "font-weight: bold;\n",
       "}\n",
       ".hoogle-head {\n",
       "font-weight: bold;\n",
       "}\n",
       ".hoogle-sub {\n",
       "display: block;\n",
       "margin-left: 0.4em;\n",
       "}\n",
       ".hoogle-package {\n",
       "font-weight: bold;\n",
       "font-style: italic;\n",
       "}\n",
       ".hoogle-module {\n",
       "font-weight: bold;\n",
       "}\n",
       ".hoogle-class {\n",
       "font-weight: bold;\n",
       "}\n",
       ".get-type {\n",
       "color: green;\n",
       "font-weight: bold;\n",
       "font-family: monospace;\n",
       "display: block;\n",
       "white-space: pre-wrap;\n",
       "}\n",
       ".show-type {\n",
       "color: green;\n",
       "font-weight: bold;\n",
       "font-family: monospace;\n",
       "margin-left: 1em;\n",
       "}\n",
       ".mono {\n",
       "font-family: monospace;\n",
       "display: block;\n",
       "}\n",
       ".err-msg {\n",
       "color: red;\n",
       "font-style: italic;\n",
       "font-family: monospace;\n",
       "white-space: pre;\n",
       "display: block;\n",
       "}\n",
       "#unshowable {\n",
       "color: red;\n",
       "font-weight: bold;\n",
       "}\n",
       ".err-msg.in.collapse {\n",
       "padding-top: 0.7em;\n",
       "}\n",
       ".highlight-code {\n",
       "white-space: pre;\n",
       "font-family: monospace;\n",
       "}\n",
       ".suggestion-warning { \n",
       "font-weight: bold;\n",
       "color: rgb(200, 130, 0);\n",
       "}\n",
       ".suggestion-error { \n",
       "font-weight: bold;\n",
       "color: red;\n",
       "}\n",
       ".suggestion-name {\n",
       "font-weight: bold;\n",
       "}\n",
       "</style><div class=\"suggestion-name\" style=\"clear:both;\">Unused LANGUAGE pragma</div><div class=\"suggestion-row\" style=\"float: left;\"><div class=\"suggestion-warning\">Found:</div><div class=\"highlight-code\" id=\"haskell\">{-# LANGUAGE OverloadedStrings, FlexibleInstances #-}</div></div><div class=\"suggestion-row\" style=\"float: left;\"><div class=\"suggestion-warning\">Why Not:</div><div class=\"highlight-code\" id=\"haskell\">{-# LANGUAGE FlexibleInstances #-}</div></div>"
      ],
      "text/plain": [
       "Line 1: Unused LANGUAGE pragma\n",
       "Found:\n",
       "{-# LANGUAGE OverloadedStrings, FlexibleInstances #-}\n",
       "Why not:\n",
       "{-# LANGUAGE FlexibleInstances #-}"
      ]
     },
     "metadata": {},
     "output_type": "display_data"
    }
   ],
   "source": [
    "{-# LANGUAGE OverloadedStrings, FlexibleInstances #-}\n",
    "\n",
    "import Prelude hiding (lookup)"
   ]
  },
  {
   "cell_type": "markdown",
   "metadata": {},
   "source": [
    "## Syntax\n",
    "\n",
    "We start by extending the datatype for expressions of Propositional Logic from the `hatt` library.\n",
    "\n",
    "### Variables and wffs\n",
    "\n",
    "Variables are simply characters. Variables with the same name will always be assigned the same truth-value by a given assignment. Following the `hatt` library, we define a recursive datatype for wffs of exhaustified propositional logic. The only addition here is the `Exh` data constructor."
   ]
  },
  {
   "cell_type": "code",
   "execution_count": 2,
   "metadata": {},
   "outputs": [],
   "source": [
    "newtype Var = Var Char\n",
    "    deriving (Eq, Ord)\n",
    "    \n",
    "data Expr = Variable Var\n",
    "          | Negation Expr\n",
    "          | Exh Expr\n",
    "          | ExhIE Expr\n",
    "          | Conjunction Expr Expr\n",
    "          | Disjunction Expr Expr\n",
    "          deriving Eq\n",
    "\n",
    "instance Show Var where\n",
    "    show (Var v) = [v]"
   ]
  },
  {
   "cell_type": "markdown",
   "metadata": {},
   "source": [
    "### Readable wffs"
   ]
  },
  {
   "cell_type": "code",
   "execution_count": 3,
   "metadata": {},
   "outputs": [],
   "source": [
    "showBinaryConnective :: (Expr -> String) -> String -> Expr -> Expr -> String\n",
    "showBinaryConnective show_ symbol exp1 exp2 =\n",
    "  '(' : show_ exp1 ++ \" \" ++ symbol ++ \" \" ++ show_ exp2 ++ \")\"\n",
    "\n",
    "showBC :: String -> Expr -> Expr -> String\n",
    "showBC = showBinaryConnective show\n",
    "          \n",
    "instance Show Expr where\n",
    "  show (Variable      name)      = show name\n",
    "  show (Negation      expr)      = '~' : show expr\n",
    "  show (Exh expr) = \"exh \" ++ show expr\n",
    "  show (ExhIE expr) = \"exh-ie \" ++ show expr\n",
    "  show (Conjunction   exp1 exp2) = showBC \"&&\" exp1 exp2\n",
    "  show (Disjunction   exp1 exp2) = showBC \"||\" exp1 exp2"
   ]
  },
  {
   "cell_type": "markdown",
   "metadata": {},
   "source": [
    "### Wffs rendered in `LaTeX`"
   ]
  },
  {
   "cell_type": "code",
   "execution_count": 4,
   "metadata": {},
   "outputs": [],
   "source": [
    "import Text.LaTeX\n",
    "import Text.LaTeX.Packages.AMSMath (wedge, vee)\n",
    "import Text.LaTeX.Base.Class\n",
    "\n",
    "neg :: LaTeXC l => l\n",
    "neg = comm0 \"neg\"\n",
    "\n",
    "toLaTeX :: Expr -> LaTeX\n",
    "toLaTeX (Variable (Var v)) = fromString [v]\n",
    "toLaTeX (Negation expr) = autoParens $ neg <> toLaTeX expr\n",
    "toLaTeX (Exh expr) = autoParens $ \"exh\" <> toLaTeX expr\n",
    "toLaTeX (ExhIE expr) = autoParens $ \"exh-ie\" <> toLaTeX expr\n",
    "toLaTeX (Conjunction expr1 expr2) = autoParens $ toLaTeX expr1 `wedge` toLaTeX expr2\n",
    "toLaTeX (Disjunction expr1 expr2) = autoParens $ toLaTeX expr1 `vee` toLaTeX expr2\n",
    "\n",
    "import IHaskell.Display\n",
    "\n",
    "instance IHaskellDisplay Expr where\n",
    "  display = display . math . toLaTeX"
   ]
  },
  {
   "cell_type": "markdown",
   "metadata": {},
   "source": [
    "### TODO Parsing expressions with `parsec`"
   ]
  },
  {
   "cell_type": "markdown",
   "metadata": {},
   "source": [
    "### Computing Structural Alternatives"
   ]
  },
  {
   "cell_type": "code",
   "execution_count": 99,
   "metadata": {},
   "outputs": [],
   "source": [
    "binaryConnectives :: [Expr -> Expr -> Expr]\n",
    "binaryConnectives = [Conjunction,Disjunction]\n",
    "\n",
    "class Alt a where\n",
    "    alt :: a -> [a]\n",
    "\n",
    "instance Alt Expr where\n",
    "    alt (Negation exp) = alt exp ++ map Negation (alt exp)\n",
    "    alt (Exh exp) = alt exp ++ map Exh (alt exp)\n",
    "    alt (ExhIE exp) = alt exp ++ map ExhIE (alt exp)\n",
    "    alt (Conjunction exp1 exp2) = [f' exp1' exp2' | f' <- binaryConnectives, exp1' <- alt exp1, exp2' <- alt exp2] ++ alt exp1 ++ alt exp2\n",
    "    alt (Disjunction exp1 exp2) = [f' exp1' exp2' | f' <- binaryConnectives, exp1' <- alt exp1, exp2' <- alt exp2] ++ alt exp1 ++ alt exp2\n",
    "    alt exp = [exp]"
   ]
  },
  {
   "cell_type": "code",
   "execution_count": 100,
   "metadata": {},
   "outputs": [
    {
     "data": {
      "text/latex": [
       "$\\left(\\left(a\\wedge{}b\\right)\\wedge{}c\\right)$"
      ]
     },
     "metadata": {},
     "output_type": "display_data"
    },
    {
     "data": {
      "text/latex": [
       "$\\left(\\left(a\\vee{}b\\right)\\wedge{}c\\right)$"
      ]
     },
     "metadata": {},
     "output_type": "display_data"
    },
    {
     "data": {
      "text/latex": [
       "$\\left(a\\wedge{}c\\right)$"
      ]
     },
     "metadata": {},
     "output_type": "display_data"
    },
    {
     "data": {
      "text/latex": [
       "$\\left(b\\wedge{}c\\right)$"
      ]
     },
     "metadata": {},
     "output_type": "display_data"
    },
    {
     "data": {
      "text/latex": [
       "$\\left(\\left(a\\wedge{}b\\right)\\vee{}c\\right)$"
      ]
     },
     "metadata": {},
     "output_type": "display_data"
    },
    {
     "data": {
      "text/latex": [
       "$\\left(\\left(a\\vee{}b\\right)\\vee{}c\\right)$"
      ]
     },
     "metadata": {},
     "output_type": "display_data"
    },
    {
     "data": {
      "text/latex": [
       "$\\left(a\\vee{}c\\right)$"
      ]
     },
     "metadata": {},
     "output_type": "display_data"
    },
    {
     "data": {
      "text/latex": [
       "$\\left(b\\vee{}c\\right)$"
      ]
     },
     "metadata": {},
     "output_type": "display_data"
    },
    {
     "data": {
      "text/latex": [
       "$\\left(a\\wedge{}b\\right)$"
      ]
     },
     "metadata": {},
     "output_type": "display_data"
    },
    {
     "data": {
      "text/latex": [
       "$\\left(a\\vee{}b\\right)$"
      ]
     },
     "metadata": {},
     "output_type": "display_data"
    },
    {
     "data": {
      "text/latex": [
       "$a$"
      ]
     },
     "metadata": {},
     "output_type": "display_data"
    },
    {
     "data": {
      "text/latex": [
       "$b$"
      ]
     },
     "metadata": {},
     "output_type": "display_data"
    },
    {
     "data": {
      "text/latex": [
       "$c$"
      ]
     },
     "metadata": {},
     "output_type": "display_data"
    }
   ],
   "source": [
    "alt $ Variable (Var 'a') `Disjunction` Variable (Var 'b') `Disjunction` Variable (Var 'c')"
   ]
  },
  {
   "cell_type": "markdown",
   "metadata": {},
   "source": [
    "## Semantics"
   ]
  },
  {
   "cell_type": "code",
   "execution_count": 101,
   "metadata": {},
   "outputs": [],
   "source": [
    "import Data.Map (Map, fromList, lookup)\n",
    "import Control.Monad (liftM, liftM2, replicateM, filterM)\n",
    "import Data.Maybe (fromMaybe)\n",
    "import Data.List (group, sort, intersperse, intersect, maximumBy, nub)\n",
    "import Data.Function (on)"
   ]
  },
  {
   "cell_type": "markdown",
   "metadata": {},
   "source": [
    "Formulae are interpreted relative to assignments of variables to truth-values."
   ]
  },
  {
   "cell_type": "markdown",
   "metadata": {},
   "source": [
    "## Innocent exclusion"
   ]
  },
  {
   "cell_type": "markdown",
   "metadata": {},
   "source": [
    "### Helper functions"
   ]
  },
  {
   "cell_type": "code",
   "execution_count": 112,
   "metadata": {},
   "outputs": [],
   "source": [
    "subsets :: [a] -> [[a]]\n",
    "subsets = filterM (const [True, False])\n",
    "\n",
    "isSubset :: Eq a => [a] -> [a] -> Bool\n",
    "isSubset a b = all (`elem` b) a\n",
    "\n",
    "isMaximum :: Eq a => [a] -> [[a]] -> Bool\n",
    "isMaximum x xs = not $ any (\\x' -> isSubset x x' && x /= x') xs && x `elem` xs\n",
    "\n",
    "toSet :: [LaTeX] -> LaTeX\n",
    "toSet = autoBraces . mconcat . intersperse \",\"\n",
    "\n",
    "displayAsSets :: [[Expr]] -> [LaTeX]\n",
    "displayAsSets = map ((math . toSet) . map toLaTeX)\n",
    "\n",
    "removeNonMaximal :: Eq a => [[a]] -> [[a]]\n",
    "removeNonMaximal xs = filter (`isMaximum` xs) xs"
   ]
  },
  {
   "cell_type": "code",
   "execution_count": 114,
   "metadata": {},
   "outputs": [],
   "source": [
    "type Mapping = Map Var Bool\n",
    "\n",
    "variables :: Expr -> [Var]\n",
    "variables expr = let vars_ (Variable      v)     vs = v : vs\n",
    "                     vars_ (Negation      e)     vs = vars_ e vs\n",
    "                     vars_ (Exh e) vs = vars_ e vs\n",
    "                     vars_ (ExhIE e) vs = vars_ e vs\n",
    "                     vars_ (Conjunction   e1 e2) vs = vars_ e1 vs ++ vars_ e2 vs\n",
    "                     vars_ (Disjunction   e1 e2) vs = vars_ e1 vs ++ vars_ e2 vs\n",
    "                 in  map head . group . sort $ vars_ expr []\n",
    "                 \n",
    "assignments :: Expr -> [Mapping]\n",
    "assignments expr = let vs = variables expr\n",
    "                       ps = replicateM (length vs) [True, False]\n",
    "                   in  map (fromList . zip vs) ps\n",
    "                   \n",
    "-- | Determines whether or not an alternative is excludable\n",
    "excl :: Expr -> Expr -> Bool\n",
    "excl s alt = not . isContradiction $ s `Conjunction` Negation alt\n",
    "\n",
    "-- | Returns the list of excludable alternatives from a list of alternatives\n",
    "exclAlts :: Expr -> [Expr]\n",
    "exclAlts expr = filter (excl expr) (alt expr)\n",
    "\n",
    "exclAltsIE :: Expr -> [Expr]\n",
    "exclAltsIE = foldr1 intersect . removeNonMaximal . consistentSets\n",
    "\n",
    "implicate :: Expr -> [Expr] -> Mapping -> Bool\n",
    "implicate expr alts vs = foldr ((&&) . not . (`interpret` vs)) (interpret expr vs) alts\n",
    "\n",
    "interpret :: Expr -> Mapping -> Bool\n",
    "interpret (Variable      v)         vs = fromMaybe False (lookup v vs)\n",
    "interpret (Negation      expr)      vs = not $ interpret expr vs\n",
    "interpret (Exh expr) vs =  implicate expr (exclAlts expr) vs\n",
    "interpret (ExhIE expr) vs = implicate expr (exclAltsIE expr) vs\n",
    "interpret (Conjunction   exp1 exp2) vs = interpret exp1 vs && interpret exp2 vs\n",
    "interpret (Disjunction   exp1 exp2) vs = interpret exp1 vs || interpret exp2 vs\n",
    "                                    \n",
    "\n",
    "-- | Determines whether an expression is contradictory.\n",
    "isContradiction :: Expr -> Bool\n",
    "isContradiction = not . or . values\n",
    "\n",
    "values :: Expr -> [Bool]\n",
    "values expr = map (interpret expr) (assignments expr)\n",
    "\n",
    "-- I can just do this in the semantics\n",
    "isConsistent :: Expr -> [Expr] -> Bool\n",
    "isConsistent expr alts = (not . isContradiction) $ foldr (Conjunction . Negation) expr alts\n",
    "\n",
    "consistentSets :: Expr -> [[Expr]]\n",
    "consistentSets expr = filter (isConsistent expr) (subsets (exclAlts expr))"
   ]
  },
  {
   "cell_type": "code",
   "execution_count": 106,
   "metadata": {},
   "outputs": [
    {
     "data": {
      "text/plain": [
       "[False,False,False,False]"
      ]
     },
     "metadata": {},
     "output_type": "display_data"
    }
   ],
   "source": [
    "values (Exh (Variable (Var 'a') `Disjunction` Variable (Var 'b')))"
   ]
  },
  {
   "cell_type": "code",
   "execution_count": 107,
   "metadata": {},
   "outputs": [
    {
     "data": {
      "text/plain": [
       "[False,True,True,False]"
      ]
     },
     "metadata": {},
     "output_type": "display_data"
    }
   ],
   "source": [
    "values (ExhIE (Variable (Var 'a') `Disjunction` Variable (Var 'b')))"
   ]
  },
  {
   "cell_type": "code",
   "execution_count": 108,
   "metadata": {},
   "outputs": [],
   "source": [
    "equivalent :: Expr -> Expr -> Bool\n",
    "equivalent exp1 exp2 = values exp1 == values exp2"
   ]
  },
  {
   "cell_type": "markdown",
   "metadata": {},
   "source": [
    "# TODO Truth tables (preferably in LateX)"
   ]
  },
  {
   "cell_type": "code",
   "execution_count": 109,
   "metadata": {},
   "outputs": [],
   "source": [
    "aOrB :: Expr\n",
    "aOrB = Exh (Variable (Var 'a') `Disjunction` Variable (Var 'b'))"
   ]
  },
  {
   "cell_type": "code",
   "execution_count": 110,
   "metadata": {},
   "outputs": [
    {
     "data": {
      "text/plain": [
       "[a,b]"
      ]
     },
     "metadata": {},
     "output_type": "display_data"
    }
   ],
   "source": [
    "variables aOrB"
   ]
  },
  {
   "cell_type": "code",
   "execution_count": 111,
   "metadata": {},
   "outputs": [
    {
     "data": {
      "text/plain": [
       "[fromList [(a,True),(b,True)],fromList [(a,True),(b,False)],fromList [(a,False),(b,True)],fromList [(a,False),(b,False)]]"
      ]
     },
     "metadata": {},
     "output_type": "display_data"
    }
   ],
   "source": [
    "assignments aOrB"
   ]
  },
  {
   "cell_type": "code",
   "execution_count": null,
   "metadata": {},
   "outputs": [],
   "source": []
  }
 ],
 "metadata": {
  "kernelspec": {
   "display_name": "Haskell - hExh",
   "language": "haskell",
   "name": "ihaskell_hexh"
  },
  "language_info": {
   "codemirror_mode": "ihaskell",
   "file_extension": ".hs",
   "name": "haskell",
   "pygments_lexer": "Haskell",
   "version": "8.4.4"
  }
 },
 "nbformat": 4,
 "nbformat_minor": 2
}
