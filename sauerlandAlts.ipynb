{
 "cells": [
  {
   "cell_type": "markdown",
   "metadata": {},
   "source": [
    "# Implementing Sauerland's algorithm using the pointed-set monad"
   ]
  },
  {
   "cell_type": "code",
   "execution_count": 34,
   "metadata": {},
   "outputs": [],
   "source": [
    "import Data.List (nub)\n",
    "\n",
    "newtype Var = Var Char\n",
    "    deriving (Eq, Ord)\n",
    "    \n",
    "data Expr = Variable Var\n",
    "          | Negation Expr\n",
    "          | Conjunction Expr Expr\n",
    "          | Disjunction Expr Expr\n",
    "          | L Expr Expr\n",
    "          | R Expr Expr\n",
    "          deriving Eq\n",
    "          \n",
    "mkVar :: Char -> Expr\n",
    "mkVar = Variable . Var\n",
    "\n",
    "instance Show Var where\n",
    "    show (Var v) = [v]"
   ]
  },
  {
   "cell_type": "code",
   "execution_count": 35,
   "metadata": {},
   "outputs": [],
   "source": [
    "showBinaryConnective :: (Expr -> String) -> String -> Expr -> Expr -> String\n",
    "showBinaryConnective show_ symbol exp1 exp2 =\n",
    "  '(' : show_ exp1 ++ \" \" ++ symbol ++ \" \" ++ show_ exp2 ++ \")\"\n",
    "\n",
    "showBC :: String -> Expr -> Expr -> String\n",
    "showBC = showBinaryConnective show\n",
    "          \n",
    "instance Show Expr where\n",
    "  show (Variable      name)      = show name\n",
    "  show (Negation      expr)      = '~' : show expr\n",
    "  show (Conjunction   exp1 exp2) = showBC \"&&\" exp1 exp2\n",
    "  show (Disjunction   exp1 exp2) = showBC \"||\" exp1 exp2\n",
    "  show (L   exp1 exp2) = showBC \"L\" exp1 exp2\n",
    "  show (R   exp1 exp2) = showBC \"R\" exp1 exp2"
   ]
  },
  {
   "cell_type": "markdown",
   "metadata": {},
   "source": [
    "Chung-chieh Shan's *pointed-set monad*, taken from http://conway.rutgers.edu/~ccshan/wiki/blog/posts/Pointed_set/"
   ]
  },
  {
   "cell_type": "code",
   "execution_count": 36,
   "metadata": {},
   "outputs": [],
   "source": [
    "import Control.Monad (liftM,ap)\n",
    "\n",
    "data Pointed a = Pointed a [a]\n",
    "  deriving (Eq, Ord, Show, Read)\n",
    "\n",
    "toList (Pointed x xs) = x:xs\n",
    "\n",
    "instance Functor Pointed where\n",
    "  fmap = liftM\n",
    "\n",
    "instance Applicative Pointed where\n",
    "  pure = return\n",
    "  (<*>) = ap\n",
    "  \n",
    "instance Monad Pointed where\n",
    "  return x = Pointed x []\n",
    "  Pointed x xs >>= k = Pointed y (ys ++ (xs >>= toList.k))\n",
    "    where Pointed y ys = k x"
   ]
  },
  {
   "cell_type": "code",
   "execution_count": 37,
   "metadata": {},
   "outputs": [],
   "source": [
    "binaryConnectives :: [Expr -> Expr -> Expr]\n",
    "binaryConnectives = [Conjunction, Disjunction, R, L]\n",
    "\n",
    "alts :: (Expr -> Expr -> Expr) -> Pointed (Expr -> Expr -> Expr)\n",
    "alts op = Pointed op binaryConnectives\n",
    "\n",
    "removeDupAlts :: Pointed Expr -> Pointed Expr\n",
    "removeDupAlts (Pointed expr alts) = Pointed expr (nub alts)"
   ]
  },
  {
   "cell_type": "code",
   "execution_count": 38,
   "metadata": {},
   "outputs": [
    {
     "data": {
      "text/html": [
       "<style>/* Styles used for the Hoogle display in the pager */\n",
       ".hoogle-doc {\n",
       "display: block;\n",
       "padding-bottom: 1.3em;\n",
       "padding-left: 0.4em;\n",
       "}\n",
       ".hoogle-code {\n",
       "display: block;\n",
       "font-family: monospace;\n",
       "white-space: pre;\n",
       "}\n",
       ".hoogle-text {\n",
       "display: block;\n",
       "}\n",
       ".hoogle-name {\n",
       "color: green;\n",
       "font-weight: bold;\n",
       "}\n",
       ".hoogle-head {\n",
       "font-weight: bold;\n",
       "}\n",
       ".hoogle-sub {\n",
       "display: block;\n",
       "margin-left: 0.4em;\n",
       "}\n",
       ".hoogle-package {\n",
       "font-weight: bold;\n",
       "font-style: italic;\n",
       "}\n",
       ".hoogle-module {\n",
       "font-weight: bold;\n",
       "}\n",
       ".hoogle-class {\n",
       "font-weight: bold;\n",
       "}\n",
       ".get-type {\n",
       "color: green;\n",
       "font-weight: bold;\n",
       "font-family: monospace;\n",
       "display: block;\n",
       "white-space: pre-wrap;\n",
       "}\n",
       ".show-type {\n",
       "color: green;\n",
       "font-weight: bold;\n",
       "font-family: monospace;\n",
       "margin-left: 1em;\n",
       "}\n",
       ".mono {\n",
       "font-family: monospace;\n",
       "display: block;\n",
       "}\n",
       ".err-msg {\n",
       "color: red;\n",
       "font-style: italic;\n",
       "font-family: monospace;\n",
       "white-space: pre;\n",
       "display: block;\n",
       "}\n",
       "#unshowable {\n",
       "color: red;\n",
       "font-weight: bold;\n",
       "}\n",
       ".err-msg.in.collapse {\n",
       "padding-top: 0.7em;\n",
       "}\n",
       ".highlight-code {\n",
       "white-space: pre;\n",
       "font-family: monospace;\n",
       "}\n",
       ".suggestion-warning { \n",
       "font-weight: bold;\n",
       "color: rgb(200, 130, 0);\n",
       "}\n",
       ".suggestion-error { \n",
       "font-weight: bold;\n",
       "color: red;\n",
       "}\n",
       ".suggestion-name {\n",
       "font-weight: bold;\n",
       "}\n",
       "</style><div class=\"suggestion-name\" style=\"clear:both;\">Redundant bracket</div><div class=\"suggestion-row\" style=\"float: left;\"><div class=\"suggestion-warning\">Found:</div><div class=\"highlight-code\" id=\"haskell\">(alts Disjunction) <*>\n",
       "  ((alts Disjunction) <*> pure (mkVar 'a') <*> pure (mkVar 'b'))</div></div><div class=\"suggestion-row\" style=\"float: left;\"><div class=\"suggestion-warning\">Why Not:</div><div class=\"highlight-code\" id=\"haskell\">alts Disjunction <*>\n",
       "  ((alts Disjunction) <*> pure (mkVar 'a') <*> pure (mkVar 'b'))</div></div><div class=\"suggestion-name\" style=\"clear:both;\">Redundant bracket</div><div class=\"suggestion-row\" style=\"float: left;\"><div class=\"suggestion-warning\">Found:</div><div class=\"highlight-code\" id=\"haskell\">(alts Disjunction) <*> pure (mkVar 'a')</div></div><div class=\"suggestion-row\" style=\"float: left;\"><div class=\"suggestion-warning\">Why Not:</div><div class=\"highlight-code\" id=\"haskell\">alts Disjunction <*> pure (mkVar 'a')</div></div>"
      ],
      "text/plain": [
       "Line 1: Redundant bracket\n",
       "Found:\n",
       "(alts Disjunction) <*>\n",
       "  ((alts Disjunction) <*> pure (mkVar 'a') <*> pure (mkVar 'b'))\n",
       "Why not:\n",
       "alts Disjunction <*>\n",
       "  ((alts Disjunction) <*> pure (mkVar 'a') <*> pure (mkVar 'b'))Line 1: Redundant bracket\n",
       "Found:\n",
       "(alts Disjunction) <*> pure (mkVar 'a')\n",
       "Why not:\n",
       "alts Disjunction <*> pure (mkVar 'a')"
      ]
     },
     "metadata": {},
     "output_type": "display_data"
    },
    {
     "data": {
      "text/plain": [
       "Pointed ((a || b) || c) [((a && b) || c),((a || b) || c),((a R b) || c),((a L b) || c),((a || b) && c),((a && b) && c),((a || b) && c),((a R b) && c),((a L b) && c),((a || b) || c),((a && b) || c),((a || b) || c),((a R b) || c),((a L b) || c),((a || b) R c),((a && b) R c),((a || b) R c),((a R b) R c),((a L b) R c),((a || b) L c),((a && b) L c),((a || b) L c),((a R b) L c),((a L b) L c)]"
      ]
     },
     "metadata": {},
     "output_type": "display_data"
    }
   ],
   "source": [
    "(alts Disjunction) <*> ((alts Disjunction) <*> pure (mkVar 'a') <*> pure (mkVar 'b')) <*> pure (mkVar 'c')"
   ]
  },
  {
   "cell_type": "code",
   "execution_count": null,
   "metadata": {},
   "outputs": [],
   "source": []
  }
 ],
 "metadata": {
  "kernelspec": {
   "display_name": "Haskell - hExh",
   "language": "haskell",
   "name": "ihaskell_hexh"
  },
  "language_info": {
   "codemirror_mode": "ihaskell",
   "file_extension": ".hs",
   "name": "haskell",
   "pygments_lexer": "Haskell",
   "version": "8.4.4"
  }
 },
 "nbformat": 4,
 "nbformat_minor": 2
}
